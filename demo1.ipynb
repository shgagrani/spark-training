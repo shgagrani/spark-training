{
 "cells": [
  {
   "cell_type": "code",
   "execution_count": null,
   "id": "0bc4b7a7-06e3-4f5d-93f7-f936c2b174aa",
   "metadata": {},
   "outputs": [],
   "source": [
    "# PySpark isn't on sys.path by default\n",
    "# We can either set these enviroment variables\n",
    "# Or we can use external library findspark to add pyspark and dependencies to sys.path at runtime\n",
    "\n",
    "# Set the environment variables\n",
    "# import os\n",
    "# os.environ['SPARK_HOME'] = \"/home/developer/miniconda3/envs/spark/lib/python3.10/site-packages/pyspark\"\n",
    "# os.environ['PYSPARK_DRIVER_PYTHON'] = 'jupyter'\n",
    "# os.environ['PYSPARK_DRIVER_PYTHON_OPTS'] = 'lab'\n",
    "# os.environ['PYSPARK_PYTHON'] = 'python'"
   ]
  },
  {
   "cell_type": "code",
   "execution_count": 10,
   "id": "041abe2c-7f6c-4c97-b149-762940943e0d",
   "metadata": {},
   "outputs": [],
   "source": [
    "# Using the findspark \n",
    "import findspark\n",
    "findspark.init()"
   ]
  },
  {
   "cell_type": "code",
   "execution_count": 14,
   "id": "7c7a7580-977d-49d4-bf27-be3e6c7acb18",
   "metadata": {},
   "outputs": [],
   "source": [
    "# Create spark session and spark context\n",
    "from pyspark.sql import SparkSession\n",
    "\n",
    "spark = SparkSession.builder.appName('demo1').getOrCreate()\n",
    "sc = spark.sparkContext"
   ]
  },
  {
   "cell_type": "code",
   "execution_count": 15,
   "id": "7b1ccd7f-b81f-430e-b25c-a709fd46e502",
   "metadata": {},
   "outputs": [
    {
     "data": {
      "text/html": [
       "\n",
       "        <div>\n",
       "            <p><b>SparkContext</b></p>\n",
       "\n",
       "            <p><a href=\"http://192.168.29.206:4040\">Spark UI</a></p>\n",
       "\n",
       "            <dl>\n",
       "              <dt>Version</dt>\n",
       "                <dd><code>v3.5.1</code></dd>\n",
       "              <dt>Master</dt>\n",
       "                <dd><code>local[*]</code></dd>\n",
       "              <dt>AppName</dt>\n",
       "                <dd><code>demo1</code></dd>\n",
       "            </dl>\n",
       "        </div>\n",
       "        "
      ],
      "text/plain": [
       "<SparkContext master=local[*] appName=demo1>"
      ]
     },
     "execution_count": 15,
     "metadata": {},
     "output_type": "execute_result"
    }
   ],
   "source": [
    "sc"
   ]
  },
  {
   "cell_type": "code",
   "execution_count": 21,
   "id": "563c697c-c6ec-4192-8b0b-e80c144d5ad3",
   "metadata": {},
   "outputs": [],
   "source": [
    "# Define a schema and some dummy data for it, than create a DataFrame.\n",
    "from pyspark.sql.types import StructType, StructField, StringType, IntegerType\n",
    "from pyspark.sql import Row\n",
    "\n",
    "# Schema\n",
    "schema = StructType([\n",
    "    StructField(\"id\", IntegerType(), True),\n",
    "    StructField(\"name\", StringType(), True),\n",
    "    StructField(\"age\", IntegerType(), True),\n",
    "    StructField(\"occupation\", StringType(), True)\n",
    "])\n",
    "\n",
    "# Dummy data\n",
    "data = [\n",
    "    Row(id=1, name=\"Ravi\", age=30, occupation=\"Developer\"),\n",
    "    Row(id=2, name=\"Rajni\", age=35, occupation=\"Engineer\"),\n",
    "    Row(id=3, name=\"Ketan\", age=25, occupation=\"Doctor\"),\n",
    "    Row(id=4, name=\"David\", age=28, occupation=\"Software Engineer\"),\n",
    "    Row(id=5, name=\"Sam\", age=22, occupation=\"Lawyer\")\n",
    "]"
   ]
  },
  {
   "cell_type": "code",
   "execution_count": 22,
   "id": "e7d9ce0d-d4f2-4132-9528-b457bbbf7981",
   "metadata": {},
   "outputs": [
    {
     "name": "stdout",
     "output_type": "stream",
     "text": [
      "+---+-----+---+-----------------+\n",
      "| id| name|age|       occupation|\n",
      "+---+-----+---+-----------------+\n",
      "|  1| Ravi| 30|        Developer|\n",
      "|  2|Rajni| 35|         Engineer|\n",
      "|  3|Ketan| 25|           Doctor|\n",
      "|  4|David| 28|Software Engineer|\n",
      "|  5|  Sam| 22|           Lawyer|\n",
      "+---+-----+---+-----------------+\n",
      "\n"
     ]
    }
   ],
   "source": [
    "# Create dataframe\n",
    "df = spark.createDataFrame(data, schema)\n",
    "df.show()"
   ]
  },
  {
   "cell_type": "code",
   "execution_count": 23,
   "id": "09d1dfb0-2045-4375-8c67-d95e41e5a18a",
   "metadata": {},
   "outputs": [
    {
     "name": "stdout",
     "output_type": "stream",
     "text": [
      "root\n",
      " |-- id: integer (nullable = true)\n",
      " |-- name: string (nullable = true)\n",
      " |-- age: integer (nullable = true)\n",
      " |-- occupation: string (nullable = true)\n",
      "\n"
     ]
    }
   ],
   "source": [
    "df.printSchema()"
   ]
  },
  {
   "cell_type": "code",
   "execution_count": 42,
   "id": "054d51a9-4cdf-4581-b9b2-831895af5094",
   "metadata": {},
   "outputs": [],
   "source": [
    "# Different types of joins\n",
    "\n",
    "# Create schema for dummy data\n",
    "employee_schema = StructType([\n",
    "    StructField(\"emp_id\", IntegerType(), False),\n",
    "    StructField(\"emp_name\", StringType(), True),\n",
    "    StructField(\"emp_age\", IntegerType(), True),\n",
    "    StructField(\"dept_id\", IntegerType(), True)\n",
    "])\n",
    "department_schema = StructType([\n",
    "    StructField(\"dept_id\", IntegerType(), True),\n",
    "    StructField(\"dept_name\", StringType(), True)\n",
    "])\n",
    "\n",
    "# Employee Data\n",
    "employee_data = [\n",
    "    Row(emp_id=1, emp_name=\"Ravi\", emp_age=30, dept_id=1),\n",
    "    Row(emp_id=2, emp_name=\"Rajni\", emp_age=35, dept_id=10),\n",
    "    Row(emp_id=3, emp_name=\"Ketan\", emp_age=25, dept_id=2),\n",
    "    Row(emp_id=4, emp_name=\"David\", emp_age=28, dept_id=3),\n",
    "    Row(emp_id=5, emp_name=\"Sam\", emp_age=22, dept_id=1),\n",
    "    Row(emp_id=6, emp_name=\"Kevin\", emp_age=29, dept_id=None)\n",
    "]\n",
    "department_data = [\n",
    "    Row(dept_id=1, dept_name=\"Tech\"),\n",
    "    Row(dept_id=2, dept_name=\"Sales\"),\n",
    "    Row(dept_id=3, dept_name=\"Marketing\"),\n",
    "    Row(dept_id=4, dept_name=\"HR\"),\n",
    "    Row(dept_id=None, dept_name=\"Temp\"),\n",
    "]\n"
   ]
  },
  {
   "cell_type": "code",
   "execution_count": 43,
   "id": "8fe26a14-263a-4db4-b339-4c71d752d1f4",
   "metadata": {},
   "outputs": [
    {
     "name": "stdout",
     "output_type": "stream",
     "text": [
      "+------+--------+-------+-------+\n",
      "|emp_id|emp_name|emp_age|dept_id|\n",
      "+------+--------+-------+-------+\n",
      "|     1|    Ravi|     30|      1|\n",
      "|     2|   Rajni|     35|     10|\n",
      "|     3|   Ketan|     25|      2|\n",
      "|     4|   David|     28|      3|\n",
      "|     5|     Sam|     22|      1|\n",
      "|     6|   Kevin|     29|   NULL|\n",
      "+------+--------+-------+-------+\n",
      "\n"
     ]
    }
   ],
   "source": [
    "df_employees = spark.createDataFrame(employee_data, employee_schema)\n",
    "df_employees.show()"
   ]
  },
  {
   "cell_type": "code",
   "execution_count": 44,
   "id": "cb2d85ea-2dda-484e-ade6-e1801baa6c42",
   "metadata": {},
   "outputs": [
    {
     "name": "stdout",
     "output_type": "stream",
     "text": [
      "+-------+---------+\n",
      "|dept_id|dept_name|\n",
      "+-------+---------+\n",
      "|      1|     Tech|\n",
      "|      2|    Sales|\n",
      "|      3|Marketing|\n",
      "|      4|       HR|\n",
      "|   NULL|     Temp|\n",
      "+-------+---------+\n",
      "\n"
     ]
    }
   ],
   "source": [
    "df_departments = spark.createDataFrame(department_data, department_schema)\n",
    "df_departments.show()"
   ]
  },
  {
   "cell_type": "code",
   "execution_count": 45,
   "id": "c6937603-b9ca-4abb-b531-c4e6d949433f",
   "metadata": {},
   "outputs": [
    {
     "name": "stdout",
     "output_type": "stream",
     "text": [
      "+------+--------+-------+-------+-------+---------+\n",
      "|emp_id|emp_name|emp_age|dept_id|dept_id|dept_name|\n",
      "+------+--------+-------+-------+-------+---------+\n",
      "|     1|    Ravi|     30|      1|      1|     Tech|\n",
      "|     5|     Sam|     22|      1|      1|     Tech|\n",
      "|     3|   Ketan|     25|      2|      2|    Sales|\n",
      "|     4|   David|     28|      3|      3|Marketing|\n",
      "+------+--------+-------+-------+-------+---------+\n",
      "\n"
     ]
    }
   ],
   "source": [
    "# INNER JOIN\n",
    "# since `inner` is the default join type, we can omit it\n",
    "df_joined = df_employees.join(df_departments, df_employees.dept_id == df_departments.dept_id)\n",
    "df_joined.show()"
   ]
  },
  {
   "cell_type": "code",
   "execution_count": 46,
   "id": "ecdf7d5c-2240-4eed-9e53-a48498a83677",
   "metadata": {},
   "outputs": [
    {
     "name": "stderr",
     "output_type": "stream",
     "text": [
      "[Stage 50:================================================>       (34 + 5) / 39]\r"
     ]
    },
    {
     "name": "stdout",
     "output_type": "stream",
     "text": [
      "+------+--------+-------+-------+-------+---------+\n",
      "|emp_id|emp_name|emp_age|dept_id|dept_id|dept_name|\n",
      "+------+--------+-------+-------+-------+---------+\n",
      "|     1|    Ravi|     30|      1|      1|     Tech|\n",
      "|     1|    Ravi|     30|      1|      2|    Sales|\n",
      "|     1|    Ravi|     30|      1|      3|Marketing|\n",
      "|     1|    Ravi|     30|      1|      4|       HR|\n",
      "|     1|    Ravi|     30|      1|   NULL|     Temp|\n",
      "|     2|   Rajni|     35|     10|      1|     Tech|\n",
      "|     2|   Rajni|     35|     10|      2|    Sales|\n",
      "|     2|   Rajni|     35|     10|      3|Marketing|\n",
      "|     2|   Rajni|     35|     10|      4|       HR|\n",
      "|     2|   Rajni|     35|     10|   NULL|     Temp|\n",
      "|     3|   Ketan|     25|      2|      1|     Tech|\n",
      "|     3|   Ketan|     25|      2|      2|    Sales|\n",
      "|     3|   Ketan|     25|      2|      3|Marketing|\n",
      "|     3|   Ketan|     25|      2|      4|       HR|\n",
      "|     3|   Ketan|     25|      2|   NULL|     Temp|\n",
      "|     4|   David|     28|      3|      1|     Tech|\n",
      "|     4|   David|     28|      3|      2|    Sales|\n",
      "|     4|   David|     28|      3|      3|Marketing|\n",
      "|     4|   David|     28|      3|      4|       HR|\n",
      "|     4|   David|     28|      3|   NULL|     Temp|\n",
      "+------+--------+-------+-------+-------+---------+\n",
      "only showing top 20 rows\n",
      "\n"
     ]
    },
    {
     "name": "stderr",
     "output_type": "stream",
     "text": [
      "                                                                                \r"
     ]
    }
   ],
   "source": [
    "# Cross Join\n",
    "df_cross_joined = df_employees.crossJoin(df_departments)\n",
    "df_cross_joined.show()"
   ]
  },
  {
   "cell_type": "code",
   "execution_count": 47,
   "id": "768d895c-3c76-4c4f-a22b-66730356122e",
   "metadata": {},
   "outputs": [
    {
     "name": "stdout",
     "output_type": "stream",
     "text": [
      "+------+--------+-------+-------+-------+---------+\n",
      "|emp_id|emp_name|emp_age|dept_id|dept_id|dept_name|\n",
      "+------+--------+-------+-------+-------+---------+\n",
      "|     1|    Ravi|     30|      1|      1|     Tech|\n",
      "|     2|   Rajni|     35|     10|   NULL|     NULL|\n",
      "|     3|   Ketan|     25|      2|      2|    Sales|\n",
      "|     4|   David|     28|      3|      3|Marketing|\n",
      "|     5|     Sam|     22|      1|      1|     Tech|\n",
      "|     6|   Kevin|     29|   NULL|   NULL|     NULL|\n",
      "+------+--------+-------+-------+-------+---------+\n",
      "\n"
     ]
    }
   ],
   "source": [
    "# Left outer Join\n",
    "df_joined = df_employees.join(df_departments, df_employees.dept_id == df_departments.dept_id, \"left\")\n",
    "df_joined.show()"
   ]
  },
  {
   "cell_type": "code",
   "execution_count": 48,
   "id": "5eb1c09c-ea90-487b-850b-0a7acf2dd9e4",
   "metadata": {},
   "outputs": [
    {
     "name": "stdout",
     "output_type": "stream",
     "text": [
      "+------+--------+-------+-------+-------+---------+\n",
      "|emp_id|emp_name|emp_age|dept_id|dept_id|dept_name|\n",
      "+------+--------+-------+-------+-------+---------+\n",
      "|     5|     Sam|     22|      1|      1|     Tech|\n",
      "|     1|    Ravi|     30|      1|      1|     Tech|\n",
      "|     3|   Ketan|     25|      2|      2|    Sales|\n",
      "|     4|   David|     28|      3|      3|Marketing|\n",
      "|  NULL|    NULL|   NULL|   NULL|      4|       HR|\n",
      "|  NULL|    NULL|   NULL|   NULL|   NULL|     Temp|\n",
      "+------+--------+-------+-------+-------+---------+\n",
      "\n"
     ]
    }
   ],
   "source": [
    "# Right outer Join\n",
    "df_joined = df_employees.join(df_departments, df_employees.dept_id == df_departments.dept_id, \"right\")\n",
    "df_joined.show()"
   ]
  },
  {
   "cell_type": "code",
   "execution_count": 49,
   "id": "fdf1b686-efd2-4bcd-b083-374737c27653",
   "metadata": {},
   "outputs": [
    {
     "name": "stdout",
     "output_type": "stream",
     "text": [
      "+------+--------+-------+-------+-------+---------+\n",
      "|emp_id|emp_name|emp_age|dept_id|dept_id|dept_name|\n",
      "+------+--------+-------+-------+-------+---------+\n",
      "|     6|   Kevin|     29|   NULL|   NULL|     NULL|\n",
      "|  NULL|    NULL|   NULL|   NULL|   NULL|     Temp|\n",
      "|     5|     Sam|     22|      1|      1|     Tech|\n",
      "|     1|    Ravi|     30|      1|      1|     Tech|\n",
      "|     3|   Ketan|     25|      2|      2|    Sales|\n",
      "|     4|   David|     28|      3|      3|Marketing|\n",
      "|  NULL|    NULL|   NULL|   NULL|      4|       HR|\n",
      "|     2|   Rajni|     35|     10|   NULL|     NULL|\n",
      "+------+--------+-------+-------+-------+---------+\n",
      "\n"
     ]
    }
   ],
   "source": [
    "# Full outer Join\n",
    "df_joined = df_employees.join(df_departments, df_employees.dept_id == df_departments.dept_id, \"full\")\n",
    "df_joined.show()"
   ]
  },
  {
   "cell_type": "code",
   "execution_count": null,
   "id": "4038a2de-5b44-4f8f-a1d4-abdbd11ed7b7",
   "metadata": {},
   "outputs": [],
   "source": []
  }
 ],
 "metadata": {
  "kernelspec": {
   "display_name": "Python 3 (ipykernel)",
   "language": "python",
   "name": "python3"
  },
  "language_info": {
   "codemirror_mode": {
    "name": "ipython",
    "version": 3
   },
   "file_extension": ".py",
   "mimetype": "text/x-python",
   "name": "python",
   "nbconvert_exporter": "python",
   "pygments_lexer": "ipython3",
   "version": "3.10.14"
  }
 },
 "nbformat": 4,
 "nbformat_minor": 5
}
