{
 "cells": [
  {
   "cell_type": "code",
   "execution_count": null,
   "id": "0bc4b7a7-06e3-4f5d-93f7-f936c2b174aa",
   "metadata": {},
   "outputs": [],
   "source": [
    "# PySpark isn't on sys.path by default\n",
    "# We can either set these enviroment variables\n",
    "# Or we can use external library findspark to add pyspark and dependencies to sys.path at runtime\n",
    "\n",
    "# Set the environment variables\n",
    "# import os\n",
    "# os.environ['SPARK_HOME'] = \"/home/developer/miniconda3/envs/spark/lib/python3.10/site-packages/pyspark\"\n",
    "# os.environ['PYSPARK_DRIVER_PYTHON'] = 'jupyter'\n",
    "# os.environ['PYSPARK_DRIVER_PYTHON_OPTS'] = 'lab'\n",
    "# os.environ['PYSPARK_PYTHON'] = 'python'"
   ]
  },
  {
   "cell_type": "code",
   "execution_count": 10,
   "id": "041abe2c-7f6c-4c97-b149-762940943e0d",
   "metadata": {},
   "outputs": [],
   "source": [
    "# Using the findspark \n",
    "import findspark\n",
    "findspark.init()"
   ]
  },
  {
   "cell_type": "code",
   "execution_count": 14,
   "id": "7c7a7580-977d-49d4-bf27-be3e6c7acb18",
   "metadata": {},
   "outputs": [],
   "source": [
    "# Create spark session and spark context\n",
    "from pyspark.sql import SparkSession\n",
    "\n",
    "spark = SparkSession.builder.appName('demo1').getOrCreate()\n",
    "sc = spark.sparkContext"
   ]
  },
  {
   "cell_type": "code",
   "execution_count": 15,
   "id": "7b1ccd7f-b81f-430e-b25c-a709fd46e502",
   "metadata": {},
   "outputs": [
    {
     "data": {
      "text/html": [
       "\n",
       "        <div>\n",
       "            <p><b>SparkContext</b></p>\n",
       "\n",
       "            <p><a href=\"http://192.168.29.206:4040\">Spark UI</a></p>\n",
       "\n",
       "            <dl>\n",
       "              <dt>Version</dt>\n",
       "                <dd><code>v3.5.1</code></dd>\n",
       "              <dt>Master</dt>\n",
       "                <dd><code>local[*]</code></dd>\n",
       "              <dt>AppName</dt>\n",
       "                <dd><code>demo1</code></dd>\n",
       "            </dl>\n",
       "        </div>\n",
       "        "
      ],
      "text/plain": [
       "<SparkContext master=local[*] appName=demo1>"
      ]
     },
     "execution_count": 15,
     "metadata": {},
     "output_type": "execute_result"
    }
   ],
   "source": [
    "sc"
   ]
  },
  {
   "cell_type": "code",
   "execution_count": 21,
   "id": "563c697c-c6ec-4192-8b0b-e80c144d5ad3",
   "metadata": {},
   "outputs": [],
   "source": [
    "# Define a schema and some dummy data for it, than create a DataFrame.\n",
    "from pyspark.sql.types import StructType, StructField, StringType, IntegerType\n",
    "from pyspark.sql import Row\n",
    "\n",
    "# Schema\n",
    "schema = StructType([\n",
    "    StructField(\"id\", IntegerType(), True),\n",
    "    StructField(\"name\", StringType(), True),\n",
    "    StructField(\"age\", IntegerType(), True),\n",
    "    StructField(\"occupation\", StringType(), True)\n",
    "])\n",
    "\n",
    "# Dummy data\n",
    "data = [\n",
    "    Row(id=1, name=\"Ravi\", age=30, occupation=\"Developer\"),\n",
    "    Row(id=2, name=\"Rajni\", age=35, occupation=\"Engineer\"),\n",
    "    Row(id=3, name=\"Ketan\", age=25, occupation=\"Doctor\"),\n",
    "    Row(id=4, name=\"David\", age=28, occupation=\"Software Engineer\"),\n",
    "    Row(id=5, name=\"Sam\", age=22, occupation=\"Lawyer\")\n",
    "]"
   ]
  },
  {
   "cell_type": "code",
   "execution_count": 22,
   "id": "e7d9ce0d-d4f2-4132-9528-b457bbbf7981",
   "metadata": {},
   "outputs": [
    {
     "name": "stdout",
     "output_type": "stream",
     "text": [
      "+---+-----+---+-----------------+\n",
      "| id| name|age|       occupation|\n",
      "+---+-----+---+-----------------+\n",
      "|  1| Ravi| 30|        Developer|\n",
      "|  2|Rajni| 35|         Engineer|\n",
      "|  3|Ketan| 25|           Doctor|\n",
      "|  4|David| 28|Software Engineer|\n",
      "|  5|  Sam| 22|           Lawyer|\n",
      "+---+-----+---+-----------------+\n",
      "\n"
     ]
    }
   ],
   "source": [
    "# Create dataframe\n",
    "df = spark.createDataFrame(data, schema)\n",
    "df.show()"
   ]
  },
  {
   "cell_type": "code",
   "execution_count": 23,
   "id": "09d1dfb0-2045-4375-8c67-d95e41e5a18a",
   "metadata": {},
   "outputs": [
    {
     "name": "stdout",
     "output_type": "stream",
     "text": [
      "root\n",
      " |-- id: integer (nullable = true)\n",
      " |-- name: string (nullable = true)\n",
      " |-- age: integer (nullable = true)\n",
      " |-- occupation: string (nullable = true)\n",
      "\n"
     ]
    }
   ],
   "source": [
    "df.printSchema()"
   ]
  },
  {
   "cell_type": "code",
   "execution_count": null,
   "id": "054d51a9-4cdf-4581-b9b2-831895af5094",
   "metadata": {},
   "outputs": [],
   "source": []
  }
 ],
 "metadata": {
  "kernelspec": {
   "display_name": "Python 3 (ipykernel)",
   "language": "python",
   "name": "python3"
  },
  "language_info": {
   "codemirror_mode": {
    "name": "ipython",
    "version": 3
   },
   "file_extension": ".py",
   "mimetype": "text/x-python",
   "name": "python",
   "nbconvert_exporter": "python",
   "pygments_lexer": "ipython3",
   "version": "3.10.14"
  }
 },
 "nbformat": 4,
 "nbformat_minor": 5
}
